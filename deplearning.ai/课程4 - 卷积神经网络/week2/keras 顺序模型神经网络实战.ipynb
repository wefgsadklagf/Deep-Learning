{
 "cells": [
  {
   "cell_type": "markdown",
   "metadata": {
    "toc": true
   },
   "source": [
    "<h1>Table of Contents<span class=\"tocSkip\"></span></h1>\n",
    "<div class=\"toc\"><ul class=\"toc-item\"><li><span><a href=\"#查看数据集\" data-toc-modified-id=\"查看数据集-1\"><span class=\"toc-item-num\">1&nbsp;&nbsp;</span>查看数据集</a></span></li></ul></div>"
   ]
  },
  {
   "cell_type": "code",
   "execution_count": 15,
   "metadata": {},
   "outputs": [],
   "source": [
    "from keras.models import Sequential  \n",
    "from keras.layers.core import Dense, Dropout, Activation  \n",
    "from keras.optimizers import SGD  \n",
    "from keras.datasets import mnist  \n",
    "import numpy \n",
    "import matplotlib.pyplot as plt"
   ]
  },
  {
   "cell_type": "markdown",
   "metadata": {},
   "source": [
    "## 查看数据集"
   ]
  },
  {
   "cell_type": "code",
   "execution_count": 14,
   "metadata": {},
   "outputs": [],
   "source": [
    "(X_train, y_train), (X_test, y_test) = mnist.load_data() \n",
    "# 使用Keras自带的mnist工具读取数据（第一次需要联网）"
   ]
  },
  {
   "cell_type": "code",
   "execution_count": 23,
   "metadata": {},
   "outputs": [
    {
     "name": "stdout",
     "output_type": "stream",
     "text": [
      "(60000, 28, 28)\n",
      "<class 'numpy.ndarray'>\n"
     ]
    },
    {
     "data": {
      "image/png": "[encoded data removed]",
      "text/plain": [
       "<Figure size 432x288 with 1 Axes>"
      ]
     },
     "metadata": {
      "needs_background": "light"
     },
     "output_type": "display_data"
    }
   ],
   "source": [
    "plt.imshow(X_train[23])\n",
    "print(X_train.shape)\n",
    "print(type(X_train[0]))"
   ]
  },
  {
   "cell_type": "code",
   "execution_count": 26,
   "metadata": {},
   "outputs": [
    {
     "name": "stdout",
     "output_type": "stream",
     "text": [
      "训练集数据大小： (60000, 28, 28)\n",
      "测试集数据大小： (10000, 28, 28)\n",
      "训练集标签 (60000, 10)\n",
      "测试集标签 (10000, 10)\n"
     ]
    }
   ],
   "source": [
    "print(\"训练集数据大小：\", X_train.shape)\n",
    "print(\"测试集数据大小：\", X_test.shape)\n",
    "print(\"训练集标签\", Y_train.shape)\n",
    "print(\"测试集标签\", Y_test.shape)"
   ]
  },
  {
   "cell_type": "code",
   "execution_count": 3,
   "metadata": {},
   "outputs": [],
   "source": [
    "'''\n",
    "    第一步：选择模型\n",
    "'''\n",
    "model = Sequential()"
   ]
  },
  {
   "cell_type": "code",
   "execution_count": 4,
   "metadata": {},
   "outputs": [],
   "source": [
    "'''\n",
    "   第二步：构建网络层\n",
    "'''\n",
    "model.add(Dense(500,input_shape=(784,))) # 输入层，28*28=784  \n",
    "model.add(Activation('tanh')) # 激活函数是tanh  \n",
    "model.add(Dropout(0.5)) # 采用50%的dropout\n",
    "\n",
    "model.add(Dense(500)) # 隐藏层节点500个  \n",
    "model.add(Activation('tanh'))  \n",
    "model.add(Dropout(0.5))\n",
    "\n",
    "model.add(Dense(10)) # 输出结果是10个类别，所以维度是10  \n",
    "model.add(Activation('softmax')) # 最后一层用softmax作为激活函数"
   ]
  },
  {
   "cell_type": "code",
   "execution_count": 28,
   "metadata": {
    "scrolled": false
   },
   "outputs": [
    {
     "name": "stdout",
     "output_type": "stream",
     "text": [
      "_________________________________________________________________\n",
      "Layer (type)                 Output Shape              Param #   \n",
      "=================================================================\n",
      "dense_4 (Dense)              (None, 500)               392500    \n",
      "_________________________________________________________________\n",
      "activation_4 (Activation)    (None, 500)               0         \n",
      "_________________________________________________________________\n",
      "dropout_3 (Dropout)          (None, 500)               0         \n",
      "_________________________________________________________________\n",
      "dense_5 (Dense)              (None, 500)               250500    \n",
      "_________________________________________________________________\n",
      "activation_5 (Activation)    (None, 500)               0         \n",
      "_________________________________________________________________\n",
      "dropout_4 (Dropout)          (None, 500)               0         \n",
      "_________________________________________________________________\n",
      "dense_6 (Dense)              (None, 10)                5010      \n",
      "_________________________________________________________________\n",
      "activation_6 (Activation)    (None, 10)                0         \n",
      "=================================================================\n",
      "Total params: 648,010\n",
      "Trainable params: 648,010\n",
      "Non-trainable params: 0\n",
      "_________________________________________________________________\n"
     ]
    }
   ],
   "source": [
    "model.summary()"
   ]
  },
  {
   "cell_type": "code",
   "execution_count": 10,
   "metadata": {},
   "outputs": [],
   "source": [
    "'''\n",
    "   第三步：编译\n",
    "'''\n",
    "sgd = SGD(lr=0.01, decay=1e-6, momentum=0.9, nesterov=True) # 优化函数，设定学习率（lr）等参数  \n",
    "model.compile(loss='categorical_crossentropy', optimizer=sgd) # 使用交叉熵作为loss函数"
   ]
  },
  {
   "cell_type": "code",
   "execution_count": 11,
   "metadata": {
    "scrolled": false
   },
   "outputs": [
    {
     "name": "stdout",
     "output_type": "stream",
     "text": [
      "Train on 42000 samples, validate on 18000 samples\n",
      "Epoch 1/50\n",
      "42000/42000 [==============================] - 11s 250us/step - loss: 1.1929 - val_loss: 0.5454\n",
      "Epoch 2/50\n",
      "42000/42000 [==============================] - 8s 186us/step - loss: 0.9417 - val_loss: 0.5062\n",
      "Epoch 3/50\n",
      "42000/42000 [==============================] - 8s 192us/step - loss: 0.8633 - val_loss: 0.4640\n",
      "Epoch 4/50\n",
      "42000/42000 [==============================] - 8s 179us/step - loss: 0.8091 - val_loss: 0.4521\n",
      "Epoch 5/50\n",
      "42000/42000 [==============================] - 7s 177us/step - loss: 0.7655 - val_loss: 0.4087\n",
      "Epoch 6/50\n",
      "42000/42000 [==============================] - 8s 180us/step - loss: 0.7297 - val_loss: 0.3965\n",
      "Epoch 7/50\n",
      "42000/42000 [==============================] - 8s 180us/step - loss: 0.6909 - val_loss: 0.3932\n",
      "Epoch 8/50\n",
      "42000/42000 [==============================] - 8s 179us/step - loss: 0.6823 - val_loss: 0.3827\n",
      "Epoch 9/50\n",
      "42000/42000 [==============================] - 8s 180us/step - loss: 0.7090 - val_loss: 0.3964\n",
      "Epoch 10/50\n",
      "42000/42000 [==============================] - 8s 181us/step - loss: 0.6818 - val_loss: 0.3820\n",
      "Epoch 11/50\n",
      "42000/42000 [==============================] - 8s 179us/step - loss: 0.6446 - val_loss: 0.3666\n",
      "Epoch 12/50\n",
      "42000/42000 [==============================] - 8s 180us/step - loss: 0.6263 - val_loss: 0.3549\n",
      "Epoch 13/50\n",
      "42000/42000 [==============================] - 8s 180us/step - loss: 0.6066 - val_loss: 0.3488\n",
      "Epoch 14/50\n",
      "42000/42000 [==============================] - 8s 181us/step - loss: 0.6267 - val_loss: 0.3555\n",
      "Epoch 15/50\n",
      "42000/42000 [==============================] - 8s 182us/step - loss: 0.6108 - val_loss: 0.3334\n",
      "Epoch 16/50\n",
      "42000/42000 [==============================] - 8s 181us/step - loss: 0.5934 - val_loss: 0.3364\n",
      "Epoch 17/50\n",
      "42000/42000 [==============================] - 8s 183us/step - loss: 0.5782 - val_loss: 0.3383\n",
      "Epoch 18/50\n",
      "42000/42000 [==============================] - 8s 183us/step - loss: 0.5692 - val_loss: 0.3250\n",
      "Epoch 19/50\n",
      "42000/42000 [==============================] - 8s 181us/step - loss: 0.5789 - val_loss: 0.3269\n",
      "Epoch 20/50\n",
      "42000/42000 [==============================] - 8s 181us/step - loss: 0.5730 - val_loss: 0.3259\n",
      "Epoch 21/50\n",
      "42000/42000 [==============================] - 8s 181us/step - loss: 0.5642 - val_loss: 0.3174\n",
      "Epoch 22/50\n",
      "42000/42000 [==============================] - 8s 180us/step - loss: 0.5618 - val_loss: 0.3163\n",
      "Epoch 23/50\n",
      "42000/42000 [==============================] - 8s 180us/step - loss: 0.5671 - val_loss: 0.3195\n",
      "Epoch 24/50\n",
      "42000/42000 [==============================] - 8s 183us/step - loss: 0.5396 - val_loss: 0.3136\n",
      "Epoch 25/50\n",
      "42000/42000 [==============================] - 8s 195us/step - loss: 0.5337 - val_loss: 0.3078\n",
      "Epoch 26/50\n",
      "42000/42000 [==============================] - 7s 176us/step - loss: 0.5325 - val_loss: 0.2996\n",
      "Epoch 27/50\n",
      "42000/42000 [==============================] - 7s 178us/step - loss: 0.5108 - val_loss: 0.2954\n",
      "Epoch 28/50\n",
      "42000/42000 [==============================] - 8s 179us/step - loss: 0.5167 - val_loss: 0.2892\n",
      "Epoch 29/50\n",
      "42000/42000 [==============================] - 7s 178us/step - loss: 0.5004 - val_loss: 0.2940\n",
      "Epoch 30/50\n",
      "42000/42000 [==============================] - 7s 178us/step - loss: 0.4852 - val_loss: 0.2831\n",
      "Epoch 31/50\n",
      "42000/42000 [==============================] - 7s 178us/step - loss: 0.4829 - val_loss: 0.2815\n",
      "Epoch 32/50\n",
      "42000/42000 [==============================] - 8s 181us/step - loss: 0.4659 - val_loss: 0.2791\n",
      "Epoch 33/50\n",
      "42000/42000 [==============================] - 8s 180us/step - loss: 0.4501 - val_loss: 0.2773\n",
      "Epoch 34/50\n",
      "42000/42000 [==============================] - 8s 180us/step - loss: 0.4708 - val_loss: 0.2769\n",
      "Epoch 35/50\n",
      "42000/42000 [==============================] - 8s 181us/step - loss: 0.4776 - val_loss: 0.2742\n",
      "Epoch 36/50\n",
      "42000/42000 [==============================] - 8s 181us/step - loss: 0.4667 - val_loss: 0.2735\n",
      "Epoch 37/50\n",
      "42000/42000 [==============================] - 8s 182us/step - loss: 0.4790 - val_loss: 0.2801\n",
      "Epoch 38/50\n",
      "42000/42000 [==============================] - 8s 181us/step - loss: 0.4912 - val_loss: 0.2833\n",
      "Epoch 39/50\n",
      "42000/42000 [==============================] - 8s 182us/step - loss: 0.4663 - val_loss: 0.2715\n",
      "Epoch 40/50\n",
      "42000/42000 [==============================] - 8s 186us/step - loss: 0.4687 - val_loss: 0.2735\n",
      "Epoch 41/50\n",
      "42000/42000 [==============================] - 7s 178us/step - loss: 0.4741 - val_loss: 0.2705\n",
      "Epoch 42/50\n",
      "42000/42000 [==============================] - 7s 178us/step - loss: 0.4638 - val_loss: 0.2732\n",
      "Epoch 43/50\n",
      "42000/42000 [==============================] - 8s 184us/step - loss: 0.4653 - val_loss: 0.2594\n",
      "Epoch 44/50\n",
      "42000/42000 [==============================] - 8s 182us/step - loss: 0.4534 - val_loss: 0.2543\n",
      "Epoch 45/50\n",
      "42000/42000 [==============================] - 8s 180us/step - loss: 0.4532 - val_loss: 0.2491\n",
      "Epoch 46/50\n",
      "42000/42000 [==============================] - 8s 180us/step - loss: 0.4347 - val_loss: 0.2492\n",
      "Epoch 47/50\n",
      "42000/42000 [==============================] - 8s 181us/step - loss: 0.4498 - val_loss: 0.2525\n",
      "Epoch 48/50\n",
      "42000/42000 [==============================] - 8s 184us/step - loss: 0.4504 - val_loss: 0.2491\n",
      "Epoch 49/50\n",
      "42000/42000 [==============================] - 7s 174us/step - loss: 0.4471 - val_loss: 0.2503\n",
      "Epoch 50/50\n",
      "42000/42000 [==============================] - 7s 176us/step - loss: 0.4247 - val_loss: 0.2425\n"
     ]
    },
    {
     "data": {
      "text/plain": [
       "0.23831116840243338"
      ]
     },
     "execution_count": 11,
     "metadata": {},
     "output_type": "execute_result"
    }
   ],
   "source": [
    "'''\n",
    "   第四步：训练\n",
    "   .fit的一些参数\n",
    "   batch_size：对总的样本数进行分组，每组包含的样本数量\n",
    "   epochs ：训练次数\n",
    "   shuffle：是否把数据随机打乱之后再进行训练\n",
    "   validation_split：拿出百分之多少用来做交叉验证\n",
    "   verbose：屏显模式 0：不输出  1：输出进度  2：输出每次的训练结果\n",
    "'''\n",
    "(X_train, y_train), (X_test, y_test) = mnist.load_data() # 使用Keras自带的mnist工具读取数据（第一次需要联网）\n",
    "# 由于mist的输入数据维度是(num, 28, 28)，这里需要把后面的维度直接拼起来变成784维  \n",
    "X_train = X_train.reshape(X_train.shape[0], X_train.shape[1] * X_train.shape[2]) \n",
    "X_test = X_test.reshape(X_test.shape[0], X_test.shape[1] * X_test.shape[2])  \n",
    "Y_train = (numpy.arange(10) == y_train[:, None]).astype(int) \n",
    "Y_test = (numpy.arange(10) == y_test[:, None]).astype(int)\n",
    "\n",
    "model.fit(\n",
    "    X_train, \n",
    "    Y_train,\n",
    "    batch_size=200,\n",
    "    epochs=50,\n",
    "    shuffle=True,\n",
    "    verbose=1,\n",
    "    validation_split=0.3)\n",
    "model.evaluate(X_test, Y_test, batch_size=200, verbose=0)"
   ]
  },
  {
   "cell_type": "code",
   "execution_count": 12,
   "metadata": {},
   "outputs": [
    {
     "name": "stdout",
     "output_type": "stream",
     "text": [
      "test set\n",
      "\n",
      "The test loss is 0.238311\n",
      "\n",
      "The accuracy of the model is 0.929500\n"
     ]
    }
   ],
   "source": [
    "'''\n",
    "    第五步：输出\n",
    "'''\n",
    "print(\"test set\")\n",
    "scores = model.evaluate(X_test,Y_test,batch_size=200,verbose=0)\n",
    "print(\"\")\n",
    "print(\"The test loss is %f\" % scores)\n",
    "result = model.predict(X_test,batch_size=200,verbose=0)\n",
    "\n",
    "result_max = numpy.argmax(result, axis = 1)\n",
    "test_max = numpy.argmax(Y_test, axis = 1)\n",
    "\n",
    "result_bool = numpy.equal(result_max, test_max)\n",
    "true_num = numpy.sum(result_bool)\n",
    "print(\"\")\n",
    "print(\"The accuracy of the model is %f\" % (true_num/len(result_bool)))"
   ]
  },
  {
   "cell_type": "code",
   "execution_count": null,
   "metadata": {},
   "outputs": [],
   "source": []
  }
 ],
 "metadata": {
  "hide_input": false,
  "kernelspec": {
   "display_name": "Python [conda env:tf1]",
   "language": "python",
   "name": "conda-env-tf1-py"
  },
  "language_info": {
   "codemirror_mode": {
    "name": "ipython",
    "version": 3
   },
   "file_extension": ".py",
   "mimetype": "text/x-python",
   "name": "python",
   "nbconvert_exporter": "python",
   "pygments_lexer": "ipython3",
   "version": "3.6.12"
  },
  "toc": {
   "base_numbering": 1,
   "nav_menu": {},
   "number_sections": true,
   "sideBar": true,
   "skip_h1_title": false,
   "title_cell": "Table of Contents",
   "title_sidebar": "Contents",
   "toc_cell": true,
   "toc_position": {},
   "toc_section_display": true,
   "toc_window_display": false
  },
  "varInspector": {
   "cols": {
    "lenName": 16,
    "lenType": 16,
    "lenVar": 40
   },
   "kernels_config": {
    "python": {
     "delete_cmd_postfix": "",
     "delete_cmd_prefix": "del ",
     "library": "var_list.py",
     "varRefreshCmd": "print(var_dic_list())"
    },
    "r": {
     "delete_cmd_postfix": ") ",
     "delete_cmd_prefix": "rm(",
     "library": "var_list.r",
     "varRefreshCmd": "cat(var_dic_list()) "
    }
   },
   "types_to_exclude": [
    "module",
    "function",
    "builtin_function_or_method",
    "instance",
    "_Feature"
   ],
   "window_display": false
  }
 },
 "nbformat": 4,
 "nbformat_minor": 2
}
