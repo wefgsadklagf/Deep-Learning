{
 "cells": [
  {
   "cell_type": "markdown",
   "metadata": {
    "toc": true
   },
   "source": [
    "<h1>Table of Contents<span class=\"tocSkip\"></span></h1>\n",
    "<div class=\"toc\"><ul class=\"toc-item\"><li><span><a href=\"#下载并查看数据集\" data-toc-modified-id=\"下载并查看数据集-1\"><span class=\"toc-item-num\">1&nbsp;&nbsp;</span>下载并查看数据集</a></span><ul class=\"toc-item\"><li><span><a href=\"#数据清洗\" data-toc-modified-id=\"数据清洗-1.1\"><span class=\"toc-item-num\">1.1&nbsp;&nbsp;</span>数据清洗</a></span></li></ul></li><li><span><a href=\"#创建网络\" data-toc-modified-id=\"创建网络-2\"><span class=\"toc-item-num\">2&nbsp;&nbsp;</span>创建网络</a></span></li><li><span><a href=\"#训练与测试\" data-toc-modified-id=\"训练与测试-3\"><span class=\"toc-item-num\">3&nbsp;&nbsp;</span>训练与测试</a></span></li></ul></div>"
   ]
  },
  {
   "cell_type": "code",
   "execution_count": 1,
   "metadata": {},
   "outputs": [],
   "source": [
    "import tensorflow as tf \n",
    "import numpy as np \n",
    "from tensorflow import keras\n",
    "import pandas as pd "
   ]
  },
  {
   "cell_type": "markdown",
   "metadata": {},
   "source": [
    "# 下载并查看数据集"
   ]
  },
  {
   "cell_type": "code",
   "execution_count": 2,
   "metadata": {},
   "outputs": [],
   "source": [
    "# 在线下载汽车效能数据集\n",
    "dataset_path = keras.utils.get_file(\"auto-mpg.data\",\"http://archive.ics.uci.edu/ml/machine-learning-databases/auto-mpg/auto-mpg.data\")"
   ]
  },
  {
   "cell_type": "code",
   "execution_count": 3,
   "metadata": {},
   "outputs": [
    {
     "data": {
      "text/html": [
       "<div>\n",
       "<style scoped>\n",
       "    .dataframe tbody tr th:only-of-type {\n",
       "        vertical-align: middle;\n",
       "    }\n",
       "\n",
       "    .dataframe tbody tr th {\n",
       "        vertical-align: top;\n",
       "    }\n",
       "\n",
       "    .dataframe thead th {\n",
       "        text-align: right;\n",
       "    }\n",
       "</style>\n",
       "<table border=\"1\" class=\"dataframe\">\n",
       "  <thead>\n",
       "    <tr style=\"text-align: right;\">\n",
       "      <th></th>\n",
       "      <th>MPG</th>\n",
       "      <th>Cylinders</th>\n",
       "      <th>Displacement</th>\n",
       "      <th>Horsepower</th>\n",
       "      <th>Weight</th>\n",
       "      <th>Acceleration</th>\n",
       "      <th>Model Year</th>\n",
       "      <th>Origin</th>\n",
       "    </tr>\n",
       "  </thead>\n",
       "  <tbody>\n",
       "    <tr>\n",
       "      <th>0</th>\n",
       "      <td>18.0</td>\n",
       "      <td>8</td>\n",
       "      <td>307.0</td>\n",
       "      <td>130.0</td>\n",
       "      <td>3504.0</td>\n",
       "      <td>12.0</td>\n",
       "      <td>70</td>\n",
       "      <td>1</td>\n",
       "    </tr>\n",
       "    <tr>\n",
       "      <th>1</th>\n",
       "      <td>15.0</td>\n",
       "      <td>8</td>\n",
       "      <td>350.0</td>\n",
       "      <td>165.0</td>\n",
       "      <td>3693.0</td>\n",
       "      <td>11.5</td>\n",
       "      <td>70</td>\n",
       "      <td>1</td>\n",
       "    </tr>\n",
       "    <tr>\n",
       "      <th>2</th>\n",
       "      <td>18.0</td>\n",
       "      <td>8</td>\n",
       "      <td>318.0</td>\n",
       "      <td>150.0</td>\n",
       "      <td>3436.0</td>\n",
       "      <td>11.0</td>\n",
       "      <td>70</td>\n",
       "      <td>1</td>\n",
       "    </tr>\n",
       "    <tr>\n",
       "      <th>3</th>\n",
       "      <td>16.0</td>\n",
       "      <td>8</td>\n",
       "      <td>304.0</td>\n",
       "      <td>150.0</td>\n",
       "      <td>3433.0</td>\n",
       "      <td>12.0</td>\n",
       "      <td>70</td>\n",
       "      <td>1</td>\n",
       "    </tr>\n",
       "    <tr>\n",
       "      <th>4</th>\n",
       "      <td>17.0</td>\n",
       "      <td>8</td>\n",
       "      <td>302.0</td>\n",
       "      <td>140.0</td>\n",
       "      <td>3449.0</td>\n",
       "      <td>10.5</td>\n",
       "      <td>70</td>\n",
       "      <td>1</td>\n",
       "    </tr>\n",
       "  </tbody>\n",
       "</table>\n",
       "</div>"
      ],
      "text/plain": [
       "    MPG  Cylinders  Displacement  Horsepower  Weight  Acceleration  \\\n",
       "0  18.0          8         307.0       130.0  3504.0          12.0   \n",
       "1  15.0          8         350.0       165.0  3693.0          11.5   \n",
       "2  18.0          8         318.0       150.0  3436.0          11.0   \n",
       "3  16.0          8         304.0       150.0  3433.0          12.0   \n",
       "4  17.0          8         302.0       140.0  3449.0          10.5   \n",
       "\n",
       "   Model Year  Origin  \n",
       "0          70       1  \n",
       "1          70       1  \n",
       "2          70       1  \n",
       "3          70       1  \n",
       "4          70       1  "
      ]
     },
     "execution_count": 3,
     "metadata": {},
     "output_type": "execute_result"
    }
   ],
   "source": [
    "# 利用 pandas 读取数据集，字段有效能（公里数每加仑），气缸数，排量，马力，重量\n",
    "# 加速度，型号年份，产地\n",
    "column_names = ['MPG','Cylinders','Displacement','Horsepower','Weight','Acceleration', 'Model Year', 'Origin']\n",
    "raw_dataset = pd.read_csv(dataset_path, names=column_names,na_values = \"?\", comment='\\t',sep=\" \", skipinitialspace=True)\n",
    "dataset = raw_dataset.copy()\n",
    "# 查看部分数据\n",
    "dataset.head()"
   ]
  },
  {
   "cell_type": "markdown",
   "metadata": {},
   "source": [
    "## 数据清洗"
   ]
  },
  {
   "cell_type": "code",
   "execution_count": 4,
   "metadata": {},
   "outputs": [
    {
     "name": "stdout",
     "output_type": "stream",
     "text": [
      "MPG             0\n",
      "Cylinders       0\n",
      "Displacement    0\n",
      "Horsepower      6\n",
      "Weight          0\n",
      "Acceleration    0\n",
      "Model Year      0\n",
      "Origin          0\n",
      "dtype: int64\n",
      "\n",
      "MPG             0\n",
      "Cylinders       0\n",
      "Displacement    0\n",
      "Horsepower      0\n",
      "Weight          0\n",
      "Acceleration    0\n",
      "Model Year      0\n",
      "Origin          0\n",
      "dtype: int64\n"
     ]
    }
   ],
   "source": [
    "print(dataset.isna().sum(), end=\"\\n\\n\")\n",
    "dataset = dataset.dropna()\n",
    "print(dataset.isna().sum())"
   ]
  },
  {
   "cell_type": "code",
   "execution_count": 5,
   "metadata": {},
   "outputs": [
    {
     "data": {
      "text/html": [
       "<div>\n",
       "<style scoped>\n",
       "    .dataframe tbody tr th:only-of-type {\n",
       "        vertical-align: middle;\n",
       "    }\n",
       "\n",
       "    .dataframe tbody tr th {\n",
       "        vertical-align: top;\n",
       "    }\n",
       "\n",
       "    .dataframe thead th {\n",
       "        text-align: right;\n",
       "    }\n",
       "</style>\n",
       "<table border=\"1\" class=\"dataframe\">\n",
       "  <thead>\n",
       "    <tr style=\"text-align: right;\">\n",
       "      <th></th>\n",
       "      <th>MPG</th>\n",
       "      <th>Cylinders</th>\n",
       "      <th>Displacement</th>\n",
       "      <th>Horsepower</th>\n",
       "      <th>Weight</th>\n",
       "      <th>Acceleration</th>\n",
       "      <th>Model Year</th>\n",
       "      <th>USA</th>\n",
       "      <th>Europe</th>\n",
       "      <th>Japan</th>\n",
       "    </tr>\n",
       "  </thead>\n",
       "  <tbody>\n",
       "    <tr>\n",
       "      <th>393</th>\n",
       "      <td>27.0</td>\n",
       "      <td>4</td>\n",
       "      <td>140.0</td>\n",
       "      <td>86.0</td>\n",
       "      <td>2790.0</td>\n",
       "      <td>15.6</td>\n",
       "      <td>82</td>\n",
       "      <td>1.0</td>\n",
       "      <td>0.0</td>\n",
       "      <td>0.0</td>\n",
       "    </tr>\n",
       "    <tr>\n",
       "      <th>394</th>\n",
       "      <td>44.0</td>\n",
       "      <td>4</td>\n",
       "      <td>97.0</td>\n",
       "      <td>52.0</td>\n",
       "      <td>2130.0</td>\n",
       "      <td>24.6</td>\n",
       "      <td>82</td>\n",
       "      <td>0.0</td>\n",
       "      <td>1.0</td>\n",
       "      <td>0.0</td>\n",
       "    </tr>\n",
       "    <tr>\n",
       "      <th>395</th>\n",
       "      <td>32.0</td>\n",
       "      <td>4</td>\n",
       "      <td>135.0</td>\n",
       "      <td>84.0</td>\n",
       "      <td>2295.0</td>\n",
       "      <td>11.6</td>\n",
       "      <td>82</td>\n",
       "      <td>1.0</td>\n",
       "      <td>0.0</td>\n",
       "      <td>0.0</td>\n",
       "    </tr>\n",
       "    <tr>\n",
       "      <th>396</th>\n",
       "      <td>28.0</td>\n",
       "      <td>4</td>\n",
       "      <td>120.0</td>\n",
       "      <td>79.0</td>\n",
       "      <td>2625.0</td>\n",
       "      <td>18.6</td>\n",
       "      <td>82</td>\n",
       "      <td>1.0</td>\n",
       "      <td>0.0</td>\n",
       "      <td>0.0</td>\n",
       "    </tr>\n",
       "    <tr>\n",
       "      <th>397</th>\n",
       "      <td>31.0</td>\n",
       "      <td>4</td>\n",
       "      <td>119.0</td>\n",
       "      <td>82.0</td>\n",
       "      <td>2720.0</td>\n",
       "      <td>19.4</td>\n",
       "      <td>82</td>\n",
       "      <td>1.0</td>\n",
       "      <td>0.0</td>\n",
       "      <td>0.0</td>\n",
       "    </tr>\n",
       "  </tbody>\n",
       "</table>\n",
       "</div>"
      ],
      "text/plain": [
       "      MPG  Cylinders  Displacement  Horsepower  Weight  Acceleration  \\\n",
       "393  27.0          4         140.0        86.0  2790.0          15.6   \n",
       "394  44.0          4          97.0        52.0  2130.0          24.6   \n",
       "395  32.0          4         135.0        84.0  2295.0          11.6   \n",
       "396  28.0          4         120.0        79.0  2625.0          18.6   \n",
       "397  31.0          4         119.0        82.0  2720.0          19.4   \n",
       "\n",
       "     Model Year  USA  Europe  Japan  \n",
       "393          82  1.0     0.0    0.0  \n",
       "394          82  0.0     1.0    0.0  \n",
       "395          82  1.0     0.0    0.0  \n",
       "396          82  1.0     0.0    0.0  \n",
       "397          82  1.0     0.0    0.0  "
      ]
     },
     "execution_count": 5,
     "metadata": {},
     "output_type": "execute_result"
    }
   ],
   "source": [
    "# 处理类别型数据，其中 origin 列代表了类别 1,2,3,分布代表产地：美国、欧洲、日本\n",
    "# 先弹出(删除并返回)origin 这一列\n",
    "origin = dataset.pop('Origin')\n",
    "# 根据 origin 列来写入新的 3 个列\n",
    "dataset['USA'] = (origin == 1)*1.0\n",
    "dataset['Europe'] = (origin == 2)*1.0\n",
    "dataset['Japan'] = (origin == 3)*1.0\n",
    "dataset.tail() # 查看新表格的后几项"
   ]
  },
  {
   "cell_type": "code",
   "execution_count": 6,
   "metadata": {},
   "outputs": [],
   "source": [
    "# 切分为训练集和测试集\n",
    "train_dataset = dataset.sample(frac=0.8,random_state=0)\n",
    "test_dataset = dataset.drop(train_dataset.index)"
   ]
  },
  {
   "cell_type": "code",
   "execution_count": 7,
   "metadata": {},
   "outputs": [],
   "source": [
    "# 移动 MPG 油耗效能这一列为真实标签 Y\n",
    "train_labels = train_dataset.pop('MPG')\n",
    "test_labels = test_dataset.pop('MPG')"
   ]
  },
  {
   "cell_type": "code",
   "execution_count": 8,
   "metadata": {},
   "outputs": [
    {
     "name": "stdout",
     "output_type": "stream",
     "text": [
      "        Cylinders  Displacement  Horsepower       Weight  Acceleration  \\\n",
      "count  314.000000    314.000000  314.000000   314.000000    314.000000   \n",
      "mean     5.477707    195.318471  104.869427  2990.251592     15.559236   \n",
      "std      1.699788    104.331589   38.096214   843.898596      2.789230   \n",
      "min      3.000000     68.000000   46.000000  1649.000000      8.000000   \n",
      "25%      4.000000    105.500000   76.250000  2256.500000     13.800000   \n",
      "50%      4.000000    151.000000   94.500000  2822.500000     15.500000   \n",
      "75%      8.000000    265.750000  128.000000  3608.000000     17.200000   \n",
      "max      8.000000    455.000000  225.000000  5140.000000     24.800000   \n",
      "\n",
      "       Model Year         USA      Europe       Japan  \n",
      "count  314.000000  314.000000  314.000000  314.000000  \n",
      "mean    75.898089    0.624204    0.178344    0.197452  \n",
      "std      3.675642    0.485101    0.383413    0.398712  \n",
      "min     70.000000    0.000000    0.000000    0.000000  \n",
      "25%     73.000000    0.000000    0.000000    0.000000  \n",
      "50%     76.000000    1.000000    0.000000    0.000000  \n",
      "75%     79.000000    1.000000    0.000000    0.000000  \n",
      "max     82.000000    1.000000    1.000000    1.000000  \n"
     ]
    }
   ],
   "source": [
    "# 查看训练集的输入 X 的统计数据\n",
    "train_stats = train_dataset.describe()\n",
    "print(train_stats)\n",
    "# train_stats.pop(\"MPG\") # 仅保留输入 X\n",
    "train_stats = train_stats.transpose() # 转置"
   ]
  },
  {
   "cell_type": "code",
   "execution_count": 9,
   "metadata": {},
   "outputs": [],
   "source": [
    "# 标准化数据\n",
    "def norm(x): # 减去每个字段的均值，并除以标准差\n",
    "    return (x - train_stats['mean']) / train_stats['std']\n",
    "normed_train_data = norm(train_dataset) # 标准化训练集\n",
    "normed_test_data = norm(test_dataset) # 标准化测试集"
   ]
  },
  {
   "cell_type": "code",
   "execution_count": 10,
   "metadata": {},
   "outputs": [
    {
     "name": "stdout",
     "output_type": "stream",
     "text": [
      "(314, 9) (314,)\n",
      "(78, 9) (78,)\n"
     ]
    }
   ],
   "source": [
    "print(normed_train_data.shape,train_labels.shape)\n",
    "print(normed_test_data.shape, test_labels.shape)"
   ]
  },
  {
   "cell_type": "code",
   "execution_count": 11,
   "metadata": {},
   "outputs": [],
   "source": [
    "train_db = tf.data.Dataset.from_tensor_slices((normed_train_data.values,\n",
    "train_labels.values)) # 构建 Dataset 对象\n",
    "train_db = train_db.shuffle(100).batch(32) # 随机打散，批量化"
   ]
  },
  {
   "cell_type": "markdown",
   "metadata": {},
   "source": [
    "# 创建网络"
   ]
  },
  {
   "cell_type": "code",
   "execution_count": 12,
   "metadata": {},
   "outputs": [],
   "source": [
    "from tensorflow.keras import layers\n",
    "from tensorflow.keras import losses"
   ]
  },
  {
   "cell_type": "code",
   "execution_count": 13,
   "metadata": {},
   "outputs": [],
   "source": [
    "class Network(keras.Model):\n",
    "    # 回归模型\n",
    "    def __init__(self):\n",
    "        super(Network, self).__init__()\n",
    "        # 创建三个全连接层\n",
    "        self.fc1 = layers.Dense(64, activation=tf.nn.relu)\n",
    "        self.fc2 = layers.Dense(64, activation=tf.nn.relu)\n",
    "        self.fc3 = layers.Dense(1, activation=None)\n",
    "        \n",
    "    def call(self, inputs, training=None, mask=None):\n",
    "        x = self.fc1(inputs)\n",
    "        x = self.fc2(x)\n",
    "        x = self.fc3(x)\n",
    "        \n",
    "        return x"
   ]
  },
  {
   "cell_type": "markdown",
   "metadata": {},
   "source": [
    "# 训练与测试"
   ]
  },
  {
   "cell_type": "code",
   "execution_count": 14,
   "metadata": {},
   "outputs": [
    {
     "name": "stdout",
     "output_type": "stream",
     "text": [
      "Model: \"network\"\n",
      "_________________________________________________________________\n",
      "Layer (type)                 Output Shape              Param #   \n",
      "=================================================================\n",
      "dense (Dense)                multiple                  640       \n",
      "_________________________________________________________________\n",
      "dense_1 (Dense)              multiple                  4160      \n",
      "_________________________________________________________________\n",
      "dense_2 (Dense)              multiple                  65        \n",
      "=================================================================\n",
      "Total params: 4,865\n",
      "Trainable params: 4,865\n",
      "Non-trainable params: 0\n",
      "_________________________________________________________________\n"
     ]
    }
   ],
   "source": [
    "model = Network() # 创建网络类实例\n",
    "# 通过 build 函数完成内部张量的创建，其中 4 为任意设置的 batch 数量， 9 为输入特征长度\n",
    "model.build(input_shape=(4, 9))\n",
    "model.summary() # 打印网络信息\n",
    "optimizer = tf.keras.optimizers.RMSprop(0.001) # 创建优化器，指定学习率"
   ]
  },
  {
   "cell_type": "code",
   "execution_count": 15,
   "metadata": {
    "scrolled": false
   },
   "outputs": [
    {
     "name": "stdout",
     "output_type": "stream",
     "text": [
      "WARNING:tensorflow:Layer network is casting an input tensor from dtype float64 to the layer's dtype of float32, which is new behavior in TensorFlow 2.  The layer has dtype float32 because it's dtype defaults to floatx.\n",
      "\n",
      "If you intended to run this layer in float32, you can safely ignore this warning. If in doubt, this warning is likely only an issue if you are porting a TensorFlow 1.X model to TensorFlow 2.\n",
      "\n",
      "To change all layers to have dtype float64 by default, call `tf.keras.backend.set_floatx('float64')`. To change just this layer, pass dtype='float64' to the layer constructor. If you are the author of this layer, you can disable autocasting by passing autocast=False to the base Layer constructor.\n",
      "\n",
      "0 0 610.9495239257812\n",
      "1 0 498.43524169921875\n",
      "2 0 543.5953369140625\n",
      "3 0 488.963623046875\n",
      "4 0 408.51702880859375\n",
      "5 0 403.8531494140625\n",
      "6 0 277.11199951171875\n",
      "7 0 214.205322265625\n",
      "8 0 125.31616973876953\n",
      "9 0 130.34776306152344\n",
      "10 0 127.70245361328125\n",
      "11 0 110.18977355957031\n",
      "12 0 108.73026275634766\n",
      "13 0 92.50582122802734\n",
      "14 0 87.18468475341797\n",
      "15 0 87.21477508544922\n",
      "16 0 66.2413330078125\n",
      "17 0 44.717796325683594\n",
      "18 0 54.282901763916016\n",
      "19 0 59.547569274902344\n",
      "20 0 59.74663543701172\n",
      "21 0 69.79057312011719\n",
      "22 0 68.3526382446289\n",
      "23 0 59.539588928222656\n",
      "24 0 63.14590835571289\n",
      "25 0 66.13737487792969\n",
      "26 0 42.00475311279297\n",
      "27 0 64.77448272705078\n",
      "28 0 60.077239990234375\n",
      "29 0 78.60065460205078\n",
      "30 0 85.60063171386719\n",
      "31 0 72.68547058105469\n",
      "32 0 45.10264587402344\n",
      "33 0 53.0410270690918\n",
      "34 0 74.13531494140625\n",
      "35 0 72.95063018798828\n",
      "36 0 76.85828399658203\n",
      "37 0 40.28512191772461\n",
      "38 0 36.353233337402344\n",
      "39 0 45.3668212890625\n",
      "40 0 61.96440124511719\n",
      "41 0 68.04475402832031\n",
      "42 0 67.40077209472656\n",
      "43 0 66.25918579101562\n",
      "44 0 41.277503967285156\n",
      "45 0 92.17304992675781\n",
      "46 0 55.204315185546875\n",
      "47 0 76.53973388671875\n",
      "48 0 52.33045196533203\n",
      "49 0 65.08702087402344\n",
      "50 0 73.36164855957031\n",
      "51 0 60.781471252441406\n",
      "52 0 84.10980224609375\n",
      "53 0 56.00005340576172\n",
      "54 0 57.00285339355469\n",
      "55 0 51.206382751464844\n",
      "56 0 38.9795036315918\n",
      "57 0 67.20748901367188\n",
      "58 0 65.82063293457031\n",
      "59 0 52.705101013183594\n",
      "60 0 64.55851745605469\n",
      "61 0 43.795806884765625\n",
      "62 0 75.14522552490234\n",
      "63 0 60.52118682861328\n",
      "64 0 88.26837158203125\n",
      "65 0 54.694923400878906\n",
      "66 0 41.36202621459961\n",
      "67 0 83.55636596679688\n",
      "68 0 95.5002670288086\n",
      "69 0 48.471923828125\n",
      "70 0 45.30178451538086\n",
      "71 0 46.59925079345703\n",
      "72 0 46.33992004394531\n",
      "73 0 49.737823486328125\n",
      "74 0 48.206031799316406\n",
      "75 0 43.13063049316406\n",
      "76 0 82.01553344726562\n",
      "77 0 48.44888687133789\n",
      "78 0 71.00535583496094\n",
      "79 0 62.21524429321289\n",
      "80 0 75.57066345214844\n",
      "81 0 64.59957885742188\n",
      "82 0 68.2231216430664\n",
      "83 0 73.32528686523438\n",
      "84 0 54.933868408203125\n",
      "85 0 71.68760681152344\n",
      "86 0 74.90625\n",
      "87 0 63.57923126220703\n",
      "88 0 62.73213195800781\n",
      "89 0 78.00517272949219\n",
      "90 0 76.13463592529297\n",
      "91 0 74.03531646728516\n",
      "92 0 79.49905395507812\n",
      "93 0 58.586204528808594\n",
      "94 0 66.73406982421875\n",
      "95 0 60.590354919433594\n",
      "96 0 77.41212463378906\n",
      "97 0 90.74996948242188\n",
      "98 0 58.754547119140625\n",
      "99 0 78.32881164550781\n",
      "100 0 55.50989532470703\n",
      "101 0 79.13587951660156\n",
      "102 0 62.673580169677734\n",
      "103 0 88.3541259765625\n",
      "104 0 72.45301818847656\n",
      "105 0 81.59740447998047\n",
      "106 0 53.02613067626953\n",
      "107 0 76.90321350097656\n",
      "108 0 71.16832733154297\n",
      "109 0 83.76771545410156\n",
      "110 0 67.04721069335938\n",
      "111 0 67.42376708984375\n",
      "112 0 69.83111572265625\n",
      "113 0 66.865966796875\n",
      "114 0 72.64805603027344\n",
      "115 0 63.231258392333984\n",
      "116 0 47.627174377441406\n",
      "117 0 70.86247253417969\n",
      "118 0 42.624229431152344\n",
      "119 0 54.33457946777344\n",
      "120 0 68.18656921386719\n",
      "121 0 88.16729736328125\n",
      "122 0 53.175010681152344\n",
      "123 0 73.5660400390625\n",
      "124 0 45.625457763671875\n",
      "125 0 57.468605041503906\n",
      "126 0 59.87398910522461\n",
      "127 0 84.86071014404297\n",
      "128 0 54.512611389160156\n",
      "129 0 62.419063568115234\n",
      "130 0 42.391815185546875\n",
      "131 0 51.34999084472656\n",
      "132 0 52.778099060058594\n",
      "133 0 56.45296859741211\n",
      "134 0 75.7018814086914\n",
      "135 0 64.48120880126953\n",
      "136 0 73.9051742553711\n",
      "137 0 63.290550231933594\n",
      "138 0 65.614501953125\n",
      "139 0 58.793922424316406\n",
      "140 0 85.65081024169922\n",
      "141 0 94.57073974609375\n",
      "142 0 51.945648193359375\n",
      "143 0 57.098289489746094\n",
      "144 0 81.11003875732422\n",
      "145 0 55.74794006347656\n",
      "146 0 98.11618041992188\n",
      "147 0 67.21036529541016\n",
      "148 0 64.40866088867188\n",
      "149 0 65.02677917480469\n",
      "150 0 60.436859130859375\n",
      "151 0 60.25232696533203\n",
      "152 0 37.97807693481445\n",
      "153 0 72.37711334228516\n",
      "154 0 63.601287841796875\n",
      "155 0 59.739749908447266\n",
      "156 0 43.6063232421875\n",
      "157 0 70.0238037109375\n",
      "158 0 56.706573486328125\n",
      "159 0 70.36847686767578\n",
      "160 0 45.825496673583984\n",
      "161 0 65.51364135742188\n",
      "162 0 67.80641174316406\n",
      "163 0 69.73214721679688\n",
      "164 0 67.44631958007812\n",
      "165 0 69.60447692871094\n",
      "166 0 49.66462326049805\n",
      "167 0 82.2561264038086\n",
      "168 0 51.74922180175781\n",
      "169 0 50.34325408935547\n",
      "170 0 92.3607406616211\n",
      "171 0 71.05350494384766\n",
      "172 0 79.65153503417969\n",
      "173 0 69.57161712646484\n",
      "174 0 62.347408294677734\n",
      "175 0 68.42096710205078\n",
      "176 0 69.64665222167969\n",
      "177 0 77.7110366821289\n",
      "178 0 71.62539672851562\n",
      "179 0 55.56585693359375\n",
      "180 0 61.676605224609375\n",
      "181 0 76.24641418457031\n",
      "182 0 63.816017150878906\n",
      "183 0 67.39802551269531\n",
      "184 0 53.023109436035156\n",
      "185 0 57.77683639526367\n",
      "186 0 68.44326782226562\n",
      "187 0 75.0633544921875\n",
      "188 0 53.348472595214844\n",
      "189 0 53.33040237426758\n",
      "190 0 57.34294891357422\n",
      "191 0 70.97203826904297\n",
      "192 0 79.47053527832031\n",
      "193 0 57.40161895751953\n",
      "194 0 50.73303985595703\n",
      "195 0 55.74176788330078\n",
      "196 0 61.6630859375\n",
      "197 0 64.6734848022461\n",
      "198 0 46.77130889892578\n",
      "199 0 64.19966125488281\n"
     ]
    }
   ],
   "source": [
    "_losses = []\n",
    "for epoch in range(200): # 200 个 Epoch\n",
    "    for step, (x,y) in enumerate(train_db): # 遍历一次训练集\n",
    "        # 梯度记录器，训练时需要使用它\n",
    "        with tf.GradientTape() as tape:\n",
    "            out = model(x) # 通过网络获得输出\n",
    "            loss = tf.reduce_mean(losses.MSE(y, out)) # 计算 MSE\n",
    "            mae_loss = tf.reduce_mean(losses.MAE(y, out)) # 计算 MAE\n",
    "        if step % 20 == 0: # 间隔性地打印训练误差\n",
    "            print(epoch, step, float(loss))\n",
    "            _losses.append(loss)\n",
    "        \n",
    "        # 计算梯度，并更新\n",
    "        grads = tape.gradient(loss, model.trainable_variables)\n",
    "        optimizer.apply_gradients(zip(grads, model.trainable_variables))"
   ]
  },
  {
   "cell_type": "code",
   "execution_count": 16,
   "metadata": {},
   "outputs": [],
   "source": [
    "import matplotlib.pyplot as plt \n",
    "%matplotlib inline"
   ]
  },
  {
   "cell_type": "code",
   "execution_count": 17,
   "metadata": {},
   "outputs": [
    {
     "data": {
      "text/plain": [
       "[<matplotlib.lines.Line2D at 0x22bf07a1ba8>]"
      ]
     },
     "execution_count": 17,
     "metadata": {},
     "output_type": "execute_result"
    },
    {
     "data": {
      "image/png": "[encoded data removed]",
      "text/plain": [
       "<Figure size 432x288 with 1 Axes>"
      ]
     },
     "metadata": {
      "needs_background": "light"
     },
     "output_type": "display_data"
    }
   ],
   "source": [
    "plt.plot(_losses)"
   ]
  },
  {
   "cell_type": "code",
   "execution_count": null,
   "metadata": {},
   "outputs": [],
   "source": []
  }
 ],
 "metadata": {
  "hide_input": false,
  "kernelspec": {
   "display_name": "Python [conda env:tf2]",
   "language": "python",
   "name": "conda-env-tf2-py"
  },
  "language_info": {
   "codemirror_mode": {
    "name": "ipython",
    "version": 3
   },
   "file_extension": ".py",
   "mimetype": "text/x-python",
   "name": "python",
   "nbconvert_exporter": "python",
   "pygments_lexer": "ipython3",
   "version": "3.6.12"
  },
  "toc": {
   "base_numbering": 1,
   "nav_menu": {},
   "number_sections": true,
   "sideBar": true,
   "skip_h1_title": false,
   "title_cell": "Table of Contents",
   "title_sidebar": "Contents",
   "toc_cell": true,
   "toc_position": {},
   "toc_section_display": true,
   "toc_window_display": true
  },
  "varInspector": {
   "cols": {
    "lenName": 16,
    "lenType": 16,
    "lenVar": 40
   },
   "kernels_config": {
    "python": {
     "delete_cmd_postfix": "",
     "delete_cmd_prefix": "del ",
     "library": "var_list.py",
     "varRefreshCmd": "print(var_dic_list())"
    },
    "r": {
     "delete_cmd_postfix": ") ",
     "delete_cmd_prefix": "rm(",
     "library": "var_list.r",
     "varRefreshCmd": "cat(var_dic_list()) "
    }
   },
   "types_to_exclude": [
    "module",
    "function",
    "builtin_function_or_method",
    "instance",
    "_Feature"
   ],
   "window_display": false
  }
 },
 "nbformat": 4,
 "nbformat_minor": 2
}
