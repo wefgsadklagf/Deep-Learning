{
 "cells": [
  {
   "cell_type": "markdown",
   "metadata": {
    "toc": true
   },
   "source": [
    "<h1>Table of Contents<span class=\"tocSkip\"></span></h1>\n",
    "<div class=\"toc\"><ul class=\"toc-item\"><li><span><a href=\"#均方差误差函数\" data-toc-modified-id=\"均方差误差函数-1\"><span class=\"toc-item-num\">1&nbsp;&nbsp;</span>均方差误差函数</a></span></li><li><span><a href=\"#交叉熵误差损失函数的实现\" data-toc-modified-id=\"交叉熵误差损失函数的实现-2\"><span class=\"toc-item-num\">2&nbsp;&nbsp;</span>交叉熵误差损失函数的实现</a></span></li></ul></div>"
   ]
  },
  {
   "cell_type": "code",
   "execution_count": 6,
   "metadata": {},
   "outputs": [],
   "source": [
    "import tensorflow as tf\n",
    "import numpy as np \n",
    "from tensorflow import keras"
   ]
  },
  {
   "cell_type": "markdown",
   "metadata": {},
   "source": [
    "\n",
    "在搭建完模型结构后，下一步就是选择合适的误差函数来计算误差。 常见的误差函数有均方差、 交叉熵、 KL 散度、 Hinge Loss 函数等，其中均方差函数和交叉熵函数在深度学习中比较常见，均方差函数主要用于回归问题，交叉熵函数主要用于分类问题\n",
    "\n",
    "# 均方差误差函数\n",
    "均方差(Mean Squared Error，简称 MSE)误差函数把输出向量和真实向量映射到笛卡尔坐标系的两个点上，通过计算这两个点之间的欧式距离(准确地说是欧式距离的平方)来衡量两个向量之间的距离：\n",
    "$$\n",
    "MSE(y, o) = \\frac{1}{d_{out}}\\sum_{i=1}^{d_{out}}(y_{i}-o_{i})^{2}\n",
    "$$\n",
    "MSE 误差函数的值总是大于等于 0，当 MSE 函数达到最小值 0 时， 输出等于真实标签，此时神经网络的参数达到最优状态。均方差误差函数广泛应用在回归问题中， 实际上， 分类问题中也可以应用均方差误差函数。\n",
    "\n",
    "tensorflow代码实现如下："
   ]
  },
  {
   "cell_type": "code",
   "execution_count": 11,
   "metadata": {},
   "outputs": [
    {
     "data": {
      "text/plain": [
       "<tf.Tensor: id=72, shape=(2,), dtype=float32, numpy=array([1.4416579, 1.633992 ], dtype=float32)>"
      ]
     },
     "execution_count": 11,
     "metadata": {},
     "output_type": "execute_result"
    }
   ],
   "source": [
    "o = tf.random.normal([2,10]) # 构造网络输出\n",
    "y_onehot = tf.constant([1,3]) # 构造真实值\n",
    "y_onehot = tf.one_hot(y_onehot, depth=10)\n",
    "loss = keras.losses.MSE(y_onehot, o) # 计算均方差\n",
    "loss"
   ]
  },
  {
   "cell_type": "markdown",
   "metadata": {},
   "source": [
    "特别要注意的是， MSE 函数返回的是每个样本的均方差，需要在样本维度上再次平均来获得平均样本的均方差，实现如下："
   ]
  },
  {
   "cell_type": "code",
   "execution_count": 12,
   "metadata": {},
   "outputs": [
    {
     "data": {
      "text/plain": [
       "<tf.Tensor: id=74, shape=(), dtype=float32, numpy=1.5378249>"
      ]
     },
     "execution_count": 12,
     "metadata": {},
     "output_type": "execute_result"
    }
   ],
   "source": [
    "loss = tf.reduce_mean(loss) # 计算 batch 均方差\n",
    "loss"
   ]
  },
  {
   "cell_type": "code",
   "execution_count": 13,
   "metadata": {},
   "outputs": [
    {
     "data": {
      "text/plain": [
       "<tf.Tensor: id=95, shape=(), dtype=float32, numpy=1.5378249>"
      ]
     },
     "execution_count": 13,
     "metadata": {},
     "output_type": "execute_result"
    }
   ],
   "source": [
    "loss = keras.losses.MeanSquaredError()(y_onehot,o) # 计算 batch 均方差\n",
    "loss"
   ]
  },
  {
   "cell_type": "markdown",
   "metadata": {},
   "source": [
    "# 交叉熵误差损失函数的实现"
   ]
  },
  {
   "cell_type": "code",
   "execution_count": 16,
   "metadata": {},
   "outputs": [
    {
     "name": "stdout",
     "output_type": "stream",
     "text": [
      "[[2.4561151e-03 6.6764127e-03 9.9086750e-01]\n",
      " [1.1419519e-01 8.4379470e-01 4.2010065e-02]\n",
      " [9.4649917e-01 6.3774614e-03 4.7123417e-02]\n",
      " [9.9719369e-01 2.4717962e-03 3.3452120e-04]\n",
      " [4.7123417e-02 9.4649917e-01 6.3774614e-03]]\n",
      "[0.00917446 0.16984606 0.05498519 0.00281025 0.05498519]\n"
     ]
    }
   ],
   "source": [
    "import tensorflow as tf\n",
    "import numpy as np\n",
    " \n",
    "#logits代表wx+b的输出，并没有进行softmax（因为softmax后是一个和为1的概率）\n",
    "logits = np.array([[1, 2, 7], [3, 5, 2], [6, 1, 3], [8, 2, 0],\n",
    "                   [3, 6, 1]], dtype=np.float32)\n",
    "#labels是[2,1,0,0,1]的ont-hot编码形式\n",
    "labels = np.array([[0, 0, 1], [0, 1, 0], [1, 0, 0], [1, 0, 0],\n",
    "                   [0, 1, 0]], dtype=np.float32)\n",
    "# 公式计算，-np.log(y*softmax_out)\n",
    "# y=n*c,softmax_out是n*c，相当于将每个样本softmax的c个特征中最大的取出来，再取负就是求最小\n",
    "softmax_out=tf.nn.softmax(logits)\n",
    "cross_entropy1 = -tf.reduce_sum(labels * tf.math.log(softmax_out), axis=1)   #对应元素相乘，非矩阵乘法\n",
    "print(softmax_out.numpy())\n",
    "print(cross_entropy1.numpy())"
   ]
  },
  {
   "cell_type": "code",
   "execution_count": 17,
   "metadata": {},
   "outputs": [
    {
     "name": "stdout",
     "output_type": "stream",
     "text": [
      "[0.16984604 0.82474494]\n"
     ]
    }
   ],
   "source": [
    "import tensorflow as tf\n",
    "import numpy as np\n",
    "\n",
    "logits = [[4.0, 2.0, 1.0], [0.0, 5.0, 1.0]]\n",
    "labels = [[1.0, 0.0, 0.0], [0.0, 0.8, 0.2]]\n",
    "loss = tf.nn.softmax_cross_entropy_with_logits(labels=labels, logits=logits)\n",
    "print(loss.numpy())"
   ]
  },
  {
   "cell_type": "code",
   "execution_count": null,
   "metadata": {},
   "outputs": [],
   "source": []
  }
 ],
 "metadata": {
  "hide_input": false,
  "kernelspec": {
   "display_name": "Python [conda env:tf2]",
   "language": "python",
   "name": "conda-env-tf2-py"
  },
  "language_info": {
   "codemirror_mode": {
    "name": "ipython",
    "version": 3
   },
   "file_extension": ".py",
   "mimetype": "text/x-python",
   "name": "python",
   "nbconvert_exporter": "python",
   "pygments_lexer": "ipython3",
   "version": "3.6.12"
  },
  "toc": {
   "base_numbering": 1,
   "nav_menu": {},
   "number_sections": true,
   "sideBar": true,
   "skip_h1_title": false,
   "title_cell": "Table of Contents",
   "title_sidebar": "Contents",
   "toc_cell": true,
   "toc_position": {},
   "toc_section_display": true,
   "toc_window_display": false
  },
  "varInspector": {
   "cols": {
    "lenName": 16,
    "lenType": 16,
    "lenVar": 40
   },
   "kernels_config": {
    "python": {
     "delete_cmd_postfix": "",
     "delete_cmd_prefix": "del ",
     "library": "var_list.py",
     "varRefreshCmd": "print(var_dic_list())"
    },
    "r": {
     "delete_cmd_postfix": ") ",
     "delete_cmd_prefix": "rm(",
     "library": "var_list.r",
     "varRefreshCmd": "cat(var_dic_list()) "
    }
   },
   "types_to_exclude": [
    "module",
    "function",
    "builtin_function_or_method",
    "instance",
    "_Feature"
   ],
   "window_display": false
  }
 },
 "nbformat": 4,
 "nbformat_minor": 2
}
