{
 "cells": [
  {
   "cell_type": "markdown",
   "metadata": {
    "toc": true
   },
   "source": [
    "<h1>Table of Contents<span class=\"tocSkip\"></span></h1>\n",
    "<div class=\"toc\"><ul class=\"toc-item\"><li><span><a href=\"#前向神经网络的多种实现方式\" data-toc-modified-id=\"前向神经网络的多种实现方式-1\"><span class=\"toc-item-num\">1&nbsp;&nbsp;</span>前向神经网络的多种实现方式</a></span><ul class=\"toc-item\"><li><span><a href=\"#张量实现方式\" data-toc-modified-id=\"张量实现方式-1.1\"><span class=\"toc-item-num\">1.1&nbsp;&nbsp;</span>张量实现方式</a></span></li><li><span><a href=\"#层实现方式\" data-toc-modified-id=\"层实现方式-1.2\"><span class=\"toc-item-num\">1.2&nbsp;&nbsp;</span>层实现方式</a></span></li><li><span><a href=\"#顺序序列实现\" data-toc-modified-id=\"顺序序列实现-1.3\"><span class=\"toc-item-num\">1.3&nbsp;&nbsp;</span>顺序序列实现</a></span></li></ul></li></ul></div>"
   ]
  },
  {
   "cell_type": "markdown",
   "metadata": {},
   "source": [
    "# 前向神经网络的多种实现方式"
   ]
  },
  {
   "cell_type": "code",
   "execution_count": 2,
   "metadata": {},
   "outputs": [],
   "source": [
    "import tensorflow as tf \n",
    "import numpy as np "
   ]
  },
  {
   "cell_type": "markdown",
   "metadata": {},
   "source": [
    "## 张量实现方式"
   ]
  },
  {
   "cell_type": "code",
   "execution_count": 7,
   "metadata": {},
   "outputs": [],
   "source": [
    "# 定义神经网络各层结构\n",
    "\n",
    "# 第一层隐藏层\n",
    "W1 = tf.Variable(tf.random.truncated_normal([784, 256], stddev=0.1))\n",
    "b1 = tf.Variable(tf.zeros([256]))\n",
    "# 第二层隐藏成\n",
    "W2 = tf.Variable(tf.random.truncated_normal([256, 128], stddev=0.1))\n",
    "b2 = tf.Variable(tf.zeros([128]))\n",
    "# 第三层 隐藏层\n",
    "W3 = tf.Variable(tf.random.truncated_normal([128, 64], stddev=0.1))\n",
    "b3 = tf.Variable(tf.zeros([64]))\n",
    "# 输出层\n",
    "W4 = tf.Variable(tf.random.truncated_normal([64, 10], stddev=0.1))\n",
    "b4 = tf.Variable(tf.zeros([10]))"
   ]
  },
  {
   "cell_type": "code",
   "execution_count": 11,
   "metadata": {},
   "outputs": [],
   "source": [
    "x = tf.random.normal([4,28*28])\n",
    "\n",
    "# 自动求导计算\n",
    "with tf.GradientTape() as tape:\n",
    "    # x :[b, 28*28]\n",
    "    # 第一隐藏层前向计算\n",
    "    h1 = x@W1 + tf.broadcast_to(b1, [x.shape[0], 256])\n",
    "    h1 = tf.nn.relu(h1)\n",
    "    # 第二隐藏层前向计算\n",
    "    h2 = tf.nn.relu(h1@W2+b2)\n",
    "    # 第三层隐藏层前向计算\n",
    "    h3 = tf.nn.relu(h2@W3+b3)\n",
    "    # 第四层隐藏层前向计算\n",
    "    h4 = h3@W4+b4"
   ]
  },
  {
   "cell_type": "code",
   "execution_count": 21,
   "metadata": {},
   "outputs": [
    {
     "data": {
      "text/plain": [
       "<bound method _EagerTensorBase.numpy of <tf.Tensor: id=441, shape=(4, 10), dtype=float32, numpy=\n",
       "array([[ 1.2678214 , -1.308991  ,  0.23424053,  0.504708  ,  0.51373863,\n",
       "        -0.4769796 , -0.01583008,  0.15147185,  0.0100593 ,  0.22782858],\n",
       "       [ 1.0107487 , -0.02608913,  0.5736121 ,  0.6152973 , -0.8780317 ,\n",
       "        -0.3283932 , -0.4608319 , -0.7240166 , -0.22022906, -0.3278438 ],\n",
       "       [ 1.0822912 ,  0.32298836,  0.27799514,  0.7650468 , -0.70618874,\n",
       "        -0.18008566, -0.78197   , -1.5144409 ,  0.15408808, -0.11194636],\n",
       "       [ 1.1351967 , -0.13325204,  1.051617  ,  0.03053641,  0.01449656,\n",
       "        -0.48319286, -0.03912136, -0.77672446,  0.29247746,  0.4701192 ]],\n",
       "      dtype=float32)>>"
      ]
     },
     "execution_count": 21,
     "metadata": {},
     "output_type": "execute_result"
    }
   ],
   "source": [
    "h4.numpy"
   ]
  },
  {
   "cell_type": "markdown",
   "metadata": {},
   "source": [
    "## 层实现方式"
   ]
  },
  {
   "cell_type": "code",
   "execution_count": 16,
   "metadata": {},
   "outputs": [],
   "source": [
    "from tensorflow.keras import layers, Sequential"
   ]
  },
  {
   "cell_type": "code",
   "execution_count": 18,
   "metadata": {},
   "outputs": [],
   "source": [
    "# 定义各个隐藏层及其参数\n",
    "fc1 = layers.Dense(256, activation=tf.nn.relu)\n",
    "fc2 = layers.Dense(128, activation=tf.nn.relu)\n",
    "fc3 = layers.Dense(64, activation=tf.nn.relu)\n",
    "fc4 = layers.Dense(10, activation=None)\n",
    "\n",
    "# 进行运算\n",
    "x = tf.random.normal([4, 28*28])\n",
    "h1 = fc1(x)\n",
    "h2 = fc2(h1)\n",
    "h3 = fc3(h2)\n",
    "h4 = fc4(h3)"
   ]
  },
  {
   "cell_type": "code",
   "execution_count": 22,
   "metadata": {},
   "outputs": [
    {
     "data": {
      "text/plain": [
       "<bound method _EagerTensorBase.numpy of <tf.Tensor: id=441, shape=(4, 10), dtype=float32, numpy=\n",
       "array([[ 1.2678214 , -1.308991  ,  0.23424053,  0.504708  ,  0.51373863,\n",
       "        -0.4769796 , -0.01583008,  0.15147185,  0.0100593 ,  0.22782858],\n",
       "       [ 1.0107487 , -0.02608913,  0.5736121 ,  0.6152973 , -0.8780317 ,\n",
       "        -0.3283932 , -0.4608319 , -0.7240166 , -0.22022906, -0.3278438 ],\n",
       "       [ 1.0822912 ,  0.32298836,  0.27799514,  0.7650468 , -0.70618874,\n",
       "        -0.18008566, -0.78197   , -1.5144409 ,  0.15408808, -0.11194636],\n",
       "       [ 1.1351967 , -0.13325204,  1.051617  ,  0.03053641,  0.01449656,\n",
       "        -0.48319286, -0.03912136, -0.77672446,  0.29247746,  0.4701192 ]],\n",
       "      dtype=float32)>>"
      ]
     },
     "execution_count": 22,
     "metadata": {},
     "output_type": "execute_result"
    }
   ],
   "source": [
    "h4.numpy"
   ]
  },
  {
   "cell_type": "markdown",
   "metadata": {},
   "source": [
    "## 顺序序列实现"
   ]
  },
  {
   "cell_type": "code",
   "execution_count": 20,
   "metadata": {},
   "outputs": [],
   "source": [
    "x = tf.random.normal([4, 28*28])\n",
    "model = Sequential([\n",
    "    layers.Dense(256, activation=tf.nn.relu),\n",
    "    layers.Dense(128, activation=tf.nn.relu),\n",
    "    layers.Dense(64, activation=tf.nn.relu),\n",
    "    layers.Dense(10, activation=None)\n",
    "])\n",
    "\n",
    "out = model(x)"
   ]
  },
  {
   "cell_type": "code",
   "execution_count": 23,
   "metadata": {},
   "outputs": [
    {
     "data": {
      "text/plain": [
       "<bound method _EagerTensorBase.numpy of <tf.Tensor: id=565, shape=(4, 10), dtype=float32, numpy=\n",
       "array([[-0.7161818 ,  0.37705937, -1.7789481 ,  0.7740485 ,  0.05857381,\n",
       "         1.3094213 , -2.140437  ,  0.11440559, -0.99368405,  1.1898942 ],\n",
       "       [ 0.07335618,  0.21551695, -0.7707263 , -0.8033088 , -0.79920614,\n",
       "         0.8159759 , -1.4025853 ,  0.5812639 , -1.3767462 ,  1.3988807 ],\n",
       "       [ 0.3471176 ,  0.7293081 , -1.1671902 ,  0.3643118 ,  0.22588669,\n",
       "        -0.41095066, -1.6315902 ,  0.60152817, -1.2400624 ,  0.67305744],\n",
       "       [-0.5959522 ,  0.8720915 , -0.9636747 ,  0.29036406, -0.5421654 ,\n",
       "         0.85903156, -1.6397976 ,  0.88063675, -0.7481228 ,  1.1595653 ]],\n",
       "      dtype=float32)>>"
      ]
     },
     "execution_count": 23,
     "metadata": {},
     "output_type": "execute_result"
    }
   ],
   "source": [
    "out.numpy"
   ]
  },
  {
   "cell_type": "code",
   "execution_count": null,
   "metadata": {},
   "outputs": [],
   "source": []
  }
 ],
 "metadata": {
  "hide_input": false,
  "kernelspec": {
   "display_name": "Python [conda env:tf2]",
   "language": "python",
   "name": "conda-env-tf2-py"
  },
  "language_info": {
   "codemirror_mode": {
    "name": "ipython",
    "version": 3
   },
   "file_extension": ".py",
   "mimetype": "text/x-python",
   "name": "python",
   "nbconvert_exporter": "python",
   "pygments_lexer": "ipython3",
   "version": "3.6.12"
  },
  "toc": {
   "base_numbering": 1,
   "nav_menu": {},
   "number_sections": true,
   "sideBar": true,
   "skip_h1_title": false,
   "title_cell": "Table of Contents",
   "title_sidebar": "Contents",
   "toc_cell": true,
   "toc_position": {},
   "toc_section_display": true,
   "toc_window_display": false
  },
  "varInspector": {
   "cols": {
    "lenName": 16,
    "lenType": 16,
    "lenVar": 40
   },
   "kernels_config": {
    "python": {
     "delete_cmd_postfix": "",
     "delete_cmd_prefix": "del ",
     "library": "var_list.py",
     "varRefreshCmd": "print(var_dic_list())"
    },
    "r": {
     "delete_cmd_postfix": ") ",
     "delete_cmd_prefix": "rm(",
     "library": "var_list.r",
     "varRefreshCmd": "cat(var_dic_list()) "
    }
   },
   "types_to_exclude": [
    "module",
    "function",
    "builtin_function_or_method",
    "instance",
    "_Feature"
   ],
   "window_display": false
  }
 },
 "nbformat": 4,
 "nbformat_minor": 2
}
